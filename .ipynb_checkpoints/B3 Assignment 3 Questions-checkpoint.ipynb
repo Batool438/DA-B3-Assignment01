{
 "cells": [
  {
   "cell_type": "markdown",
   "id": "040aea0c-eda0-465a-b3f6-fd58237a430b",
   "metadata": {},
   "source": [
    "Question 1: Age Group Classification \n",
    "\n",
    "Write a Python program that takes the age of a person as input and classifies them into one of the following age groups:\n",
    "\n",
    "\"Child\" if the age is between 0 and 12 (inclusive).\n",
    "\n",
    "\"Teenager\" if the age is between 13 and 19 (inclusive).\n",
    "\n",
    "\"Adult\" if the age is between 20 and 64 (inclusive).\n",
    "\n",
    "\"Senior\" if the age is 65 or older.\n"
   ]
  },
  {
   "cell_type": "markdown",
   "id": "5068bb33-315c-4a5d-be95-4caa94afe993",
   "metadata": {},
   "source": [
    "Q2. Write a Python program that asks the user to enter an email address. The program should check if the email contains the characters @ and \".\" (ignoring case). If either character is present, print \"Email format is valid.\" Otherwise, print \"Invalid email format.\""
   ]
  },
  {
   "cell_type": "markdown",
   "id": "a074ddbe-c5c4-455e-ac3c-53fbbc6c2d56",
   "metadata": {},
   "source": [
    "Q3. Write a Python program that takes three numbers as input and determines the largest among them. Also, check if any or all of the numbers are equal.\""
   ]
  },
  {
   "cell_type": "markdown",
   "id": "55560bd6-a9d8-4e57-a192-b3e9932ff5cb",
   "metadata": {},
   "source": [
    "Q4. Write a Python program that:\n",
    "\n",
    "Asks the user to enter a number.\n",
    "\n",
    "Checks whether the number is positive.\n",
    "\n",
    "If yes, further check if it's even or odd.\n",
    "\n",
    "Print \"The number is positive and even\" if divisible by 2.\n",
    "\n",
    "Print \"The number is positive and odd\" if not divisible by 2.\n",
    "\n",
    "If the number is zero or negative, print \"The number is not positive\".\n",
    "\n"
   ]
  },
  {
   "cell_type": "markdown",
   "id": "800fe26a-5d6e-4107-97ba-62fa4f913093",
   "metadata": {},
   "source": [
    "Q5. Ask the user for a username and password. Check if the username is correct. If it is, then check if the password is correct. If both are correct, print \"Access granted\".\n",
    "\n",
    "username = \"admin\"\n",
    "\n",
    "password = \"1234\""
   ]
  },
  {
   "cell_type": "markdown",
   "id": "d7512946-1c55-48d5-b62d-4f17c84f457a",
   "metadata": {},
   "source": [
    "Q6. Take an integer input from the user and check whether the entered value exists in the tuple my_tuple = (5, 10, 15, 20, 25). Print an appropriate message based on the result."
   ]
  },
  {
   "cell_type": "markdown",
   "id": "f38b44b4-1244-4fa9-a186-8153caa421ec",
   "metadata": {},
   "source": [
    "Q7. Create a program that takes the user's first name, last name, and age as input, packs them into a tuple, and prints the tuple."
   ]
  },
  {
   "cell_type": "markdown",
   "id": "6a08567b-6f6c-4374-a54e-992c09a31780",
   "metadata": {},
   "source": [
    "Q8. Given the tuple coordinates = (4, 5, 6), unpack the elements of the tuple into three variables x, y, and z. Then, calculate and print the sum of the variables."
   ]
  },
  {
   "cell_type": "markdown",
   "id": "d3973711-1c49-436f-aaff-e0a19877f525",
   "metadata": {},
   "source": [
    "Q9. Given the tuple my_tuple = (1, 2, 3, 4, 5), remove the element 3 from the tuple by first converting it to a list, and then print the resulting tuple."
   ]
  },
  {
   "cell_type": "markdown",
   "id": "c9c6a478-5d3d-4e1e-8bce-b9479925c7c5",
   "metadata": {},
   "source": [
    "Q10. Given the tuple numbers = (10, 20, 5, 30, 15), find and print the maximum and minimum values in the tuple."
   ]
  },
  {
   "cell_type": "markdown",
   "id": "9023f704-e93a-4e44-94f5-74c964c734e9",
   "metadata": {},
   "source": [
    "Question 1: Age Group Classification\n",
    "\n",
    "Write a Python program that takes the age of a person as input and classifies them into one of the following age groups:\n",
    "\n",
    "\"Child\" if the age is between 0 and 12 (inclusive).\n",
    "\n",
    "\"Teenager\" if the age is between 13 and 19 (inclusive).\n",
    "\n",
    "\"Adult\" if the age is between 20 and 64 (inclusive).\n",
    "\n",
    "\"Senior\" if the age is 65 or older."
   ]
  },
  {
   "cell_type": "code",
   "execution_count": 1,
   "id": "bab59fc1-9fab-4259-9c4d-14f80305fc9c",
   "metadata": {},
   "outputs": [
    {
     "name": "stdin",
     "output_type": "stream",
     "text": [
      "Enter your age:  28\n"
     ]
    },
    {
     "name": "stdout",
     "output_type": "stream",
     "text": [
      "You are classified as: Adult\n"
     ]
    }
   ],
   "source": [
    "def classify_age(age):\n",
    "    if 0 <= age <= 12:\n",
    "        return \"Child\"\n",
    "    elif 13 <= age <= 19:\n",
    "        return \"Teenager\"\n",
    "    elif 20 <= age <= 64:\n",
    "        return \"Adult\"\n",
    "    elif age >= 65:\n",
    "        return \"Senior\"\n",
    "    else:\n",
    "        return \"Invalid age\"\n",
    "\n",
    "# Get user input\n",
    "try:\n",
    "    age = int(input(\"Enter your age: \"))\n",
    "    category = classify_age(age)\n",
    "    print(f\"You are classified as: {category}\")\n",
    "except ValueError:\n",
    "    print(\"Please enter a valid integer for age.\")\n"
   ]
  },
  {
   "cell_type": "markdown",
   "id": "c9c31b8f-33bb-43e4-b2f2-09bfa78cac2f",
   "metadata": {},
   "source": [
    "Q2. Write a Python program that asks the user to enter an email address.\n",
    "The program should check if the email contains the characters @ and \".\" (ignoring case). \n",
    "If either character is present, print \"Email format is valid.\" Otherwise, print \"Invalid email format."
   ]
  },
  {
   "cell_type": "code",
   "execution_count": 2,
   "id": "e787e2ff-d5e4-4fc9-969e-061d5ca76295",
   "metadata": {},
   "outputs": [
    {
     "name": "stdin",
     "output_type": "stream",
     "text": [
      "Enter your email address:  mahvishbatool59@gmail.com\n"
     ]
    },
    {
     "name": "stdout",
     "output_type": "stream",
     "text": [
      "Email format is valid.\n"
     ]
    }
   ],
   "source": [
    "# enter an email address\n",
    "email = input(\"Enter your email address: \")\n",
    "\n",
    "# Check if both '@' and '.' are present in the email address\n",
    "if '@' in email and '.' in email:\n",
    "    print(\"Email format is valid.\")\n",
    "else:\n",
    "    print(\"Invalid email format.\")\n"
   ]
  },
  {
   "cell_type": "markdown",
   "id": "26c5c4ee-6dd2-45fc-b7f1-066ba1381cbd",
   "metadata": {},
   "source": [
    "Q3. Write a Python program that takes three numbers as input and determines the largest among them.\n",
    "Also, check if any or all of the numbers are equal.\""
   ]
  },
  {
   "cell_type": "code",
   "execution_count": 3,
   "id": "71e95c2a-d8e8-41ff-84d9-283c8b42ec1d",
   "metadata": {},
   "outputs": [
    {
     "name": "stdin",
     "output_type": "stream",
     "text": [
      "Enter the first number:  8\n",
      "Enter the second number:  90\n",
      "Enter the third number:  888\n"
     ]
    },
    {
     "name": "stdout",
     "output_type": "stream",
     "text": [
      "All numbers are different.\n",
      "The largest number is: 888.0\n"
     ]
    }
   ],
   "source": [
    "# Get three numbers from the user\n",
    "num1 = float(input(\"Enter the first number: \"))\n",
    "num2 = float(input(\"Enter the second number: \"))\n",
    "num3 = float(input(\"Enter the third number: \"))\n",
    "\n",
    "# Check if all numbers are equal\n",
    "if num1 == num2 == num3:\n",
    "    print(\"All three numbers are equal.\")\n",
    "# Check if any two numbers are equal\n",
    "elif num1 == num2 or num1 == num3 or num2 == num3:\n",
    "    print(\"Two of the numbers are equal.\")\n",
    "else:\n",
    "    print(\"All numbers are different.\")\n",
    "\n",
    "# Determine the largest number\n",
    "largest = max(num1, num2, num3)\n",
    "print(\"The largest number is:\", largest)\n"
   ]
  },
  {
   "cell_type": "markdown",
   "id": "3b6792e5-d099-4dcf-8dea-26a82f87cd96",
   "metadata": {},
   "source": [
    "Q4. Write a Python program that:\n",
    "\n",
    "Asks the user to enter a number.\n",
    "\n",
    "Checks whether the number is positive.\n",
    "\n",
    "If yes, further check if it's even or odd.\n",
    "\n",
    "Print \"The number is positive and even\" if divisible by 2.\n",
    "\n",
    "Print \"The number is positive and odd\" if not divisible by 2.\n",
    "\n",
    "If the number is zero or negative, print \"The number is not positive\"."
   ]
  },
  {
   "cell_type": "code",
   "execution_count": 4,
   "id": "dd43eab7-5b27-484c-b4d5-06cb519d94fd",
   "metadata": {},
   "outputs": [
    {
     "name": "stdin",
     "output_type": "stream",
     "text": [
      "Enter a number:  9\n"
     ]
    },
    {
     "name": "stdout",
     "output_type": "stream",
     "text": [
      "The number is positive and odd.\n"
     ]
    }
   ],
   "source": [
    "# Ask the user to enter a number\n",
    "number = int(input(\"Enter a number: \"))\n",
    "\n",
    "# Check if the number is positive\n",
    "if number > 0:\n",
    "    # Check if the number is even or odd\n",
    "    if number % 2 == 0:\n",
    "        print(\"The number is positive and even.\")\n",
    "    else:\n",
    "        print(\"The number is positive and odd.\")\n",
    "else:\n",
    "    print(\"The number is not positive.\")\n"
   ]
  },
  {
   "cell_type": "markdown",
   "id": "15f73226-2372-4380-a61e-5095a9993f2b",
   "metadata": {},
   "source": [
    "Q5. Ask the user for a username and password. Check if the username is correct. \n",
    "If it is, then check if the password is correct. If both are correct, print \"Access granted\".\n",
    "\n",
    "username = \"admin\"\n",
    "\n",
    "password = \"1234\""
   ]
  },
  {
   "cell_type": "code",
   "execution_count": 5,
   "id": "22f2556d-bd86-4d58-ae4e-0d96788385c2",
   "metadata": {},
   "outputs": [
    {
     "name": "stdin",
     "output_type": "stream",
     "text": [
      "Enter username:  admin\n",
      "Enter password:  1234\n"
     ]
    },
    {
     "name": "stdout",
     "output_type": "stream",
     "text": [
      "Access granted.\n"
     ]
    }
   ],
   "source": [
    "# Predefined credentials\n",
    "username = \"admin\"\n",
    "password = \"1234\"\n",
    "\n",
    "# Ask user for input\n",
    "input_username = input(\"Enter username: \")\n",
    "input_password = input(\"Enter password: \")\n",
    "\n",
    "# Check credentials\n",
    "if input_username == username:\n",
    "    if input_password == password:\n",
    "        print(\"Access granted.\")\n",
    "    else:\n",
    "        print(\"Incorrect password.\")\n",
    "else:\n",
    "    print(\"Incorrect username.\")\n"
   ]
  },
  {
   "cell_type": "markdown",
   "id": "acc7cb9d-566c-4b99-8b3b-0f168545730d",
   "metadata": {},
   "source": [
    "Q6. Take an integer input from the user and check whether the entered value exists in the tuple my_tuple = (5, 10, 15, 20, 25).\n",
    "Print an appropriate message based on the result."
   ]
  },
  {
   "cell_type": "code",
   "execution_count": 6,
   "id": "b91167c1-d654-45ef-bb05-a82d594d4e96",
   "metadata": {},
   "outputs": [
    {
     "name": "stdin",
     "output_type": "stream",
     "text": [
      "Enter an integer:  5\n"
     ]
    },
    {
     "name": "stdout",
     "output_type": "stream",
     "text": [
      "The value 5 exists in the tuple.\n"
     ]
    }
   ],
   "source": [
    "# Define the tuple\n",
    "my_tuple = (5, 10, 15, 20, 25)\n",
    "\n",
    "# Take integer input from the user\n",
    "user_input = int(input(\"Enter an integer: \"))\n",
    "\n",
    "# Check if the value exists in the tuple\n",
    "if user_input in my_tuple:\n",
    "    print(f\"The value {user_input} exists in the tuple.\")\n",
    "else:\n",
    "    print(f\"The value {user_input} does not exist in the tuple.\")\n"
   ]
  },
  {
   "cell_type": "markdown",
   "id": "05afa226-24cb-4ba3-a936-bbfed35cb07d",
   "metadata": {},
   "source": [
    "Q7. Create a program that takes the user's first name, last name, and age as input, packs them into a tuple, and prints the tuple."
   ]
  },
  {
   "cell_type": "code",
   "execution_count": 7,
   "id": "1a2da73a-0541-4791-acd9-8b02847df6ac",
   "metadata": {},
   "outputs": [
    {
     "name": "stdin",
     "output_type": "stream",
     "text": [
      "Enter your first name:  batool\n",
      "Enter your last name:  hafeez\n",
      "Enter your age:  28\n"
     ]
    },
    {
     "name": "stdout",
     "output_type": "stream",
     "text": [
      "User information as a tuple: ('batool', 'hafeez', 28)\n"
     ]
    }
   ],
   "source": [
    "# Take input from the user\n",
    "first_name = input(\"Enter your first name: \")\n",
    "last_name = input(\"Enter your last name: \")\n",
    "age = int(input(\"Enter your age: \"))\n",
    "\n",
    "# Pack the inputs into a tuple\n",
    "user_info = (first_name, last_name, age)\n",
    "\n",
    "# Print the tuple\n",
    "print(\"User information as a tuple:\", user_info)\n"
   ]
  },
  {
   "cell_type": "markdown",
   "id": "84f31e11-f4b4-4e41-b57a-4346b1762f8e",
   "metadata": {},
   "source": [
    "Q8. Given the tuple coordinates = (4, 5, 6), unpack the elements of the tuple into three variables x, y, and z. \n",
    "Then, calculate and print the sum of the variables."
   ]
  },
  {
   "cell_type": "code",
   "execution_count": 8,
   "id": "24b94a82-fdb1-4b89-b9b9-60727e83533e",
   "metadata": {},
   "outputs": [
    {
     "name": "stdout",
     "output_type": "stream",
     "text": [
      "The sum of the coordinates is: 15\n"
     ]
    }
   ],
   "source": [
    "# Given tuple\n",
    "coordinates = (4, 5, 6)\n",
    "\n",
    "# Unpack the tuple into variables\n",
    "x, y, z = coordinates\n",
    "\n",
    "# Calculate the sum\n",
    "total = x + y + z\n",
    "\n",
    "# Print the result\n",
    "print(\"The sum of the coordinates is:\", total)\n"
   ]
  },
  {
   "cell_type": "markdown",
   "id": "91536909-0c6e-4b4a-9052-b2f70bde65e4",
   "metadata": {},
   "source": [
    "Q9. Given the tuple my_tuple = (1, 2, 3, 4, 5), remove the element 3 from the tuple by first converting it to a list,\n",
    "and then print the resulting tuple."
   ]
  },
  {
   "cell_type": "code",
   "execution_count": 9,
   "id": "58ada2ef-5c87-48ed-a335-5f6536cd2e84",
   "metadata": {},
   "outputs": [
    {
     "name": "stdout",
     "output_type": "stream",
     "text": [
      "Tuple after removing 3: (1, 2, 4, 5)\n"
     ]
    }
   ],
   "source": [
    "# Given tuple\n",
    "my_tuple = (1, 2, 3, 4, 5)\n",
    "\n",
    "# Convert tuple to list\n",
    "temp_list = list(my_tuple)\n",
    "\n",
    "# Remove the element 3\n",
    "if 3 in temp_list:\n",
    "    temp_list.remove(3)\n",
    "\n",
    "# Convert list back to tuple\n",
    "updated_tuple = tuple(temp_list)\n",
    "\n",
    "# Print the resulting tuple\n",
    "print(\"Tuple after removing 3:\", updated_tuple)\n"
   ]
  },
  {
   "cell_type": "markdown",
   "id": "84896547-d833-4f33-80cd-ef56047be7eb",
   "metadata": {},
   "source": [
    "Q10. Given the tuple numbers = (10, 20, 5, 30, 15), find and print the maximum and minimum values in the tuple."
   ]
  },
  {
   "cell_type": "code",
   "execution_count": 10,
   "id": "3006c60f-9e39-4c8f-a2da-7971e51e5a37",
   "metadata": {},
   "outputs": [
    {
     "name": "stdout",
     "output_type": "stream",
     "text": [
      "Maximum value: 30\n",
      "Minimum value: 5\n"
     ]
    }
   ],
   "source": [
    "# Given tuple\n",
    "numbers = (10, 20, 5, 30, 15)\n",
    "\n",
    "# Find maximum and minimum\n",
    "max_value = max(numbers)\n",
    "min_value = min(numbers)\n",
    "\n",
    "# Print the results\n",
    "print(\"Maximum value:\", max_value)\n",
    "print(\"Minimum value:\", min_value)\n"
   ]
  },
  {
   "cell_type": "code",
   "execution_count": null,
   "id": "5c1832d7-2b4f-4688-88a8-6764f64c0e50",
   "metadata": {},
   "outputs": [],
   "source": []
  }
 ],
 "metadata": {
  "kernelspec": {
   "display_name": "Python 3 (ipykernel)",
   "language": "python",
   "name": "python3"
  },
  "language_info": {
   "codemirror_mode": {
    "name": "ipython",
    "version": 3
   },
   "file_extension": ".py",
   "mimetype": "text/x-python",
   "name": "python",
   "nbconvert_exporter": "python",
   "pygments_lexer": "ipython3",
   "version": "3.12.7"
  }
 },
 "nbformat": 4,
 "nbformat_minor": 5
}
