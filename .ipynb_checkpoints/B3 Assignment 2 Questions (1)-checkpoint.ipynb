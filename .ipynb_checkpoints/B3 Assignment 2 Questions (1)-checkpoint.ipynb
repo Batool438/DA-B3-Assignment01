{
 "cells": [
  {
   "cell_type": "markdown",
   "id": "4c5645fa-dd3d-4890-b6a9-8644927ca6b7",
   "metadata": {},
   "source": [
    "1- \n",
    "\n",
    "text = 'hello python world'\n",
    "\n",
    "Replace spaces with underscores in the string (e.g., \"hello python world\" → \"hello_python_world\").\n",
    "\n",
    "Split the modified string (e.g., \"hello_python_world\" → ['hello', 'python', 'world']).\n",
    "\n",
    "Join the list elements with a hyphen (-) between them (e.g., ['hello', 'python', 'world'] → \"hello-python-world\").\n",
    "\n",
    "Print all three results\n",
    "\n",
    "Hint: Use string methods"
   ]
  },
  {
   "cell_type": "markdown",
   "id": "43b16f9d-fe31-4abf-8377-82c6cc146e07",
   "metadata": {},
   "source": [
    "2- Check if a string has more than 5 characters. Return True/False\n",
    "\n",
    "word = \"Javascript\""
   ]
  },
  {
   "cell_type": "markdown",
   "id": "b1f1b114-fa24-40b3-851b-208bef6992f3",
   "metadata": {},
   "source": [
    "3- Check if a number is even and greater than 10. Return True/False\n",
    "\n",
    "num2 = 12"
   ]
  },
  {
   "cell_type": "markdown",
   "id": "a8861555-edde-43cb-94c7-ace2988433fa",
   "metadata": {},
   "source": [
    "4- Check if a number is less than 5 or greater than 20. Return True/False\n",
    "\n",
    "num3 = 3"
   ]
  },
  {
   "cell_type": "markdown",
   "id": "1bb3ccd8-c052-47ed-ab1c-d76496b2174c",
   "metadata": {},
   "source": [
    "5- Check if a person’s age is between 18 and 65 and if they have a valid ID\n",
    "\n",
    "age = 25\n",
    "\n",
    "has_id = True"
   ]
  },
  {
   "cell_type": "markdown",
   "id": "2842c61a-03a6-4501-b217-b616e35d5381",
   "metadata": {},
   "source": [
    "6-Write a script to check if a string starts with (http://) or (https://)\n",
    "\n",
    "url = \"https://www.example.com\""
   ]
  },
  {
   "cell_type": "markdown",
   "id": "aab1ae26-2cc7-4d19-937d-a83c6cffc5ec",
   "metadata": {},
   "source": [
    "7- Write a script that applies a 10% discount to an item's price. (Using Assignment Operator)\n",
    "\n",
    "price = 100"
   ]
  },
  {
   "cell_type": "markdown",
   "id": "f6cddfb2-70b7-4e67-9b02-728c82e92e2f",
   "metadata": {},
   "source": [
    "8- You are managing different customer lists for a subscription service, check if alice@example.com is our both premium and basic customer\n",
    "\n",
    "premium_customers = [\"alice@example.com\", \"charlie@example.com\", \"bob@example.com\"]\n",
    "\n",
    "basic_customers = [\"alex@example.com\", \"david@example.com\", \"chloe@example.com\"]"
   ]
  },
  {
   "cell_type": "markdown",
   "id": "47dbafcf-7a6b-4ba0-af44-1e567292f8de",
   "metadata": {},
   "source": [
    "9. Write a Python program that prompts the user to enter a password and returns True or False based on the following checks:\n",
    "\n",
    "Whether the string contains any uppercase characters.\n",
    "\n",
    "Whether the string contains any lowercase characters.\n",
    "\n",
    "Whether the string contains any spaces.\n",
    "\n",
    "Whether the string contains any special characters (anything other than letters, digits, and spaces).\n",
    "\n",
    "\n",
    "\n",
    "Hint: Use Input function and string methods\n"
   ]
  },
  {
   "cell_type": "markdown",
   "id": "8164e2d0-dc5a-4439-a196-1545e0a55139",
   "metadata": {},
   "source": [
    "10- You have a product code that follows the format \"SKU-12345-XYZ\". \n",
    "\n",
    "Find the first position of the dash (-).\n",
    "\n",
    "Count the number of dashes (-) in the product code.\n",
    "\n",
    "Remove the \"SKU-\" prefix and \"-XYZ\" suffix from the product code, Extract the numeric part 12345\n",
    "\n",
    "Hint: Use String Methods"
   ]
  },
  {
   "cell_type": "code",
   "execution_count": null,
   "id": "3804ef6e-0881-4f70-a613-9d842c294016",
   "metadata": {},
   "outputs": [],
   "source": []
  },
  {
   "cell_type": "code",
   "execution_count": 3,
   "id": "0fc5424b-3a1c-4779-8277-a9159396927e",
   "metadata": {},
   "outputs": [],
   "source": [
    "text = ('hello python world')"
   ]
  },
  {
   "cell_type": "code",
   "execution_count": 5,
   "id": "90e47973-ffd7-4226-b6e3-be01a3b5de82",
   "metadata": {},
   "outputs": [
    {
     "data": {
      "text/plain": [
       "'hello python world'"
      ]
     },
     "execution_count": 5,
     "metadata": {},
     "output_type": "execute_result"
    }
   ],
   "source": [
    "text"
   ]
  },
  {
   "cell_type": "code",
   "execution_count": 27,
   "id": "04638ba4-2132-47ed-8f84-9ebece232410",
   "metadata": {},
   "outputs": [],
   "source": [
    "text01=text.replace(\" \",\"_\" )"
   ]
  },
  {
   "cell_type": "code",
   "execution_count": 29,
   "id": "dd9600b4-7d91-4be3-bd6c-9f4c43d37202",
   "metadata": {},
   "outputs": [
    {
     "name": "stdout",
     "output_type": "stream",
     "text": [
      "hello_python_world\n"
     ]
    }
   ],
   "source": [
    "print(text01)"
   ]
  },
  {
   "cell_type": "code",
   "execution_count": 31,
   "id": "563bc8b9-81e8-493f-b1cc-5e1cf655ac04",
   "metadata": {},
   "outputs": [],
   "source": [
    "text_split=text01.split(\"_\")"
   ]
  },
  {
   "cell_type": "code",
   "execution_count": 21,
   "id": "75ada7a7-5f74-4f16-bbbc-1de082ee7dd4",
   "metadata": {},
   "outputs": [
    {
     "name": "stdout",
     "output_type": "stream",
     "text": [
      "['hello', 'python', 'world']\n"
     ]
    }
   ],
   "source": [
    "print(text_split)"
   ]
  },
  {
   "cell_type": "code",
   "execution_count": 33,
   "id": "13e3594e-94ca-493e-a122-3eb988a60d6c",
   "metadata": {},
   "outputs": [
    {
     "data": {
      "text/plain": [
       "'hello python world'"
      ]
     },
     "execution_count": 33,
     "metadata": {},
     "output_type": "execute_result"
    }
   ],
   "source": [
    "text"
   ]
  },
  {
   "cell_type": "code",
   "execution_count": 45,
   "id": "ebe133bc-92cd-454f-a009-9ba754b6a576",
   "metadata": {},
   "outputs": [],
   "source": [
    "txt=[\"hello\",\"python\",\"world\"]"
   ]
  },
  {
   "cell_type": "code",
   "execution_count": 47,
   "id": "d2bf0fcd-9422-4cf0-81fd-ffaf34c0abb9",
   "metadata": {},
   "outputs": [],
   "source": [
    "txt03= \"-\".join(txt)"
   ]
  },
  {
   "cell_type": "code",
   "execution_count": 49,
   "id": "c35a9b89-e3c9-4b0b-954f-42efe189336d",
   "metadata": {},
   "outputs": [
    {
     "name": "stdout",
     "output_type": "stream",
     "text": [
      "hello-python-world\n"
     ]
    }
   ],
   "source": [
    "print(txt03)"
   ]
  },
  {
   "cell_type": "code",
   "execution_count": 92,
   "id": "bf7bae70-07e9-4cf0-b238-85d86c3a5a1d",
   "metadata": {},
   "outputs": [
    {
     "name": "stdout",
     "output_type": "stream",
     "text": [
      "True\n"
     ]
    }
   ],
   "source": [
    "def check_length(javascript):\n",
    "    return len(javascript)>5\n",
    "print(check_length(\"javascript\"))"
   ]
  },
  {
   "cell_type": "code",
   "execution_count": 100,
   "id": "88cb2bc6-9ce0-461d-bdbc-2dd4af53b56a",
   "metadata": {},
   "outputs": [
    {
     "name": "stdout",
     "output_type": "stream",
     "text": [
      "True\n"
     ]
    }
   ],
   "source": [
    "def check_number(num):\n",
    "    return num % 2 == 0 and num >10\n",
    "num2=12\n",
    "print(check_number(num2))"
   ]
  },
  {
   "cell_type": "code",
   "execution_count": 104,
   "id": "0bc00ea4-1fb8-4692-b29e-11e85563cfd9",
   "metadata": {},
   "outputs": [
    {
     "name": "stdout",
     "output_type": "stream",
     "text": [
      "True\n",
      "False\n"
     ]
    }
   ],
   "source": [
    "def check_number(num):\n",
    "    return num < 5 or num > 20\n",
    "\n",
    "print(check_number(2))\n",
    "print(check_number(6))\n"
   ]
  },
  {
   "cell_type": "code",
   "execution_count": 108,
   "id": "a380f341-7abc-4b2c-b6a9-7360c2cf3735",
   "metadata": {},
   "outputs": [
    {
     "name": "stdout",
     "output_type": "stream",
     "text": [
      "True\n"
     ]
    }
   ],
   "source": [
    "def check_eligibility(age,has_id):\n",
    "    return 18 < age < 65 and has_id\n",
    "\n",
    "age=25\n",
    "has_id = True \n",
    "print(check_eligibility(age,has_id))"
   ]
  },
  {
   "cell_type": "code",
   "execution_count": 112,
   "id": "1670fe18-768f-4177-892e-b10549932f8c",
   "metadata": {},
   "outputs": [
    {
     "name": "stdout",
     "output_type": "stream",
     "text": [
      "True\n"
     ]
    }
   ],
   "source": [
    "def check_url(url):\n",
    "    return url.startswith((\"http://\",\"https:/\"))\n",
    "\n",
    "url=\"https://www.example.com\"\n",
    "print(check_url(url))"
   ]
  },
  {
   "cell_type": "code",
   "execution_count": 114,
   "id": "6a04e090-8da8-47d8-acfe-0a11df94b0c5",
   "metadata": {},
   "outputs": [
    {
     "name": "stdout",
     "output_type": "stream",
     "text": [
      "Discounted Price:  90.0\n"
     ]
    }
   ],
   "source": [
    "price = 100\n",
    "price *= 0.90\n",
    "\n",
    "print(\"Discounted Price: \", price)"
   ]
  },
  {
   "cell_type": "code",
   "execution_count": 116,
   "id": "6256098f-04c2-4da7-bcb4-6e80f184de9f",
   "metadata": {},
   "outputs": [
    {
     "name": "stdout",
     "output_type": "stream",
     "text": [
      "Is alice@example.com a premium customer? True\n",
      "Is alice@example.com a basic customer? True\n",
      "Is alice@example.com both premium and basic customer? True\n"
     ]
    }
   ],
   "source": [
    "premium_customers = [\"alice@example.com\", \"charlie@example.com\", \"bob@example.com\"]\n",
    "basic_customers = [\"alex@example.com\", \"david@example.com\", \"chloe@example.com\", \"alice@example.com\"]\n",
    "\n",
    "def check_customer(email):\n",
    "    is_premium = email in premium_customers\n",
    "    is_basic = email in basic_customers\n",
    "    \n",
    "    print(f\"Is {email} a premium customer? {is_premium}\")\n",
    "    print(f\"Is {email} a basic customer? {is_basic}\")\n",
    "    print(f\"Is {email} both premium and basic customer? {is_premium and is_basic}\")\n",
    "\n",
    "check_customer(\"alice@example.com\")"
   ]
  },
  {
   "cell_type": "code",
   "execution_count": 126,
   "id": "d8525a05-d2ca-4f65-951b-f0d0063499e7",
   "metadata": {},
   "outputs": [
    {
     "name": "stdin",
     "output_type": "stream",
     "text": [
      "Enter a password:  batOo1\n"
     ]
    },
    {
     "name": "stdout",
     "output_type": "stream",
     "text": [
      "Contains uppercase characters: True\n",
      "Contains lowercase characters: True\n",
      "Contains spaces: False\n",
      "Contains special characters: False\n"
     ]
    }
   ],
   "source": [
    "import re\n",
    "\n",
    "def check_password(password):\n",
    "    has_uppercase = any(char.isupper() for char in password)\n",
    "    has_lowercase = any(char.islower() for char in password)\n",
    "    has_space = any(char.isspace() for char in password)\n",
    "    has_special_char = not password.replace(\" \", \"\").isalnum()\n",
    "\n",
    "    # Alternatively, you can use regular expressions\n",
    "    # has_special_char = bool(re.search(r'[^a-zA-Z0-9\\s]', password))\n",
    "\n",
    "    print(f\"Contains uppercase characters: {has_uppercase}\")\n",
    "    print(f\"Contains lowercase characters: {has_lowercase}\")\n",
    "    print(f\"Contains spaces: {has_space}\")\n",
    "    print(f\"Contains special characters: {has_special_char}\")\n",
    "\n",
    "def main():\n",
    "    password = input(\"Enter a password: \")\n",
    "    check_password(password)\n",
    "\n",
    "if __name__ == \"__main__\":\n",
    "    main()"
   ]
  },
  {
   "cell_type": "code",
   "execution_count": 128,
   "id": "4099a185-9f7b-47e3-9706-9d90a7f97115",
   "metadata": {},
   "outputs": [
    {
     "name": "stdout",
     "output_type": "stream",
     "text": [
      "First dash position: 3\n",
      "Number of dashes: 2\n",
      "Numeric part: 12345\n"
     ]
    }
   ],
   "source": [
    "def process_product_code(product_code):\n",
    "    # Find the first position of the dash (-)\n",
    "    first_dash_position = product_code.find('-')\n",
    "    print(f\"First dash position: {first_dash_position}\")\n",
    "\n",
    "    # Count the number of dashes (-) in the product code\n",
    "    dash_count = product_code.count('-')\n",
    "    print(f\"Number of dashes: {dash_count}\")\n",
    "\n",
    "    # Remove the \"SKU-\" prefix and \"-XYZ\" suffix from the product code\n",
    "    numeric_part = product_code.split('-')[1]\n",
    "    print(f\"Numeric part: {numeric_part}\")\n",
    "\n",
    "    # Alternatively, you can use string slicing and partitioning\n",
    "    # prefix, sep, rest = product_code.partition('-')\n",
    "    # numeric_part, sep, suffix = rest.partition('-')\n",
    "    # print(f\"Numeric part: {numeric_part}\")\n",
    "\n",
    "def main():\n",
    "    product_code = \"SKU-12345-XYZ\"\n",
    "    process_product_code(product_code)\n",
    "\n",
    "if __name__ == \"__main__\":\n",
    "    main()"
   ]
  },
  {
   "cell_type": "code",
   "execution_count": null,
   "id": "b8229c11-ba4c-452a-a6b8-a59a251a8e17",
   "metadata": {},
   "outputs": [],
   "source": []
  }
 ],
 "metadata": {
  "kernelspec": {
   "display_name": "Python [conda env:base] *",
   "language": "python",
   "name": "conda-base-py"
  },
  "language_info": {
   "codemirror_mode": {
    "name": "ipython",
    "version": 3
   },
   "file_extension": ".py",
   "mimetype": "text/x-python",
   "name": "python",
   "nbconvert_exporter": "python",
   "pygments_lexer": "ipython3",
   "version": "3.12.7"
  }
 },
 "nbformat": 4,
 "nbformat_minor": 5
}
